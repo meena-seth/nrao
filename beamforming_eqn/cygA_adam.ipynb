{
 "cells": [
  {
   "cell_type": "code",
   "execution_count": null,
   "id": "63fe752e",
   "metadata": {},
   "outputs": [],
   "source": [
    "import numpy as np\n",
    "import sys\n",
    "from matplotlib import pyplot as plt"
   ]
  },
  {
   "cell_type": "code",
   "execution_count": null,
   "id": "4e10eb74",
   "metadata": {},
   "outputs": [],
   "source": [
    "data = np.load('/arc/projects/chime_frb/mseth/cyg_A/frb_CYG_A_2025-07-03_beam_1105.npz', allow_pickle=True) \n",
    "\n",
    "spectra = data['spectra']\n",
    "median_timeseries = data['median_timeseries']\n",
    "median_ts = np.mean(spectra, axis=0)\n",
    "\n",
    "\n",
    "peak_ind = np.argmax(median_ts)\n",
    "spectra_at_peak = spectra[:, peak_ind]\n",
    "spectra_at_peak[spectra_at_peak==0] = np.nan  # Replace zeros with NaN for better visualization\n"
   ]
  },
  {
   "cell_type": "code",
   "execution_count": null,
   "id": "e0749d54",
   "metadata": {},
   "outputs": [],
   "source": [
    "# Look at spectra from data\n",
    "plt.figure()\n",
    "plt.scatter(np.arange(len(spectra_at_peak)), spectra_at_peak, label='Spectra at Peak',s=1)"
   ]
  },
  {
   "cell_type": "code",
   "execution_count": null,
   "id": "56b73059",
   "metadata": {},
   "outputs": [],
   "source": [
    "### Different ###\n",
    "sys.path.insert(0, '/arc/home/mseth/beam-model')\n",
    "#################\n",
    "\n",
    "\n",
    "from beam_model import composite \n",
    "from beam_model import utils as u\n",
    "\n",
    "### Different ### \n",
    "from beam_model.bm_data.get_data import main\n",
    "from beam_model import config\n",
    "#################\n",
    "\n",
    "cbm = composite.CompositeBeamModel()\n",
    "CygA_RA = 299.8681525\n",
    "CygA_Dec = 40.7339156"
   ]
  },
  {
   "cell_type": "code",
   "execution_count": null,
   "id": "3f35100f",
   "metadata": {},
   "outputs": [],
   "source": [
    "from datetime import datetime\n",
    "from datetime import timedelta\n",
    "\n",
    "\n",
    "### Different ###\n",
    "sys.path.insert(0, '/arc/home/mseth/frb-calibration-master')\n",
    "#################\n",
    "\n",
    "from frb_calibration import intensity_calibration_helpers as ich\n",
    "time, beam = ich.get_calibrator_transit(CygA_RA, CygA_Dec, \"20200217\")\n",
    "#convert time to datetime\n",
    "start_date = datetime.strptime(time, '%Y-%m-%d %H:%M:%S.%f UTC+0000')- timedelta(minutes=10)\n",
    "date_time_arr = [start_date + timedelta(seconds=i) for i in range(1200)]\n",
    "x_arr = []\n",
    "y_arr = []\n",
    "sensitivity_arr = []\n",
    "for date_time in date_time_arr:\n",
    "    x, y = cbm.get_position_from_equatorial(CygA_RA, CygA_Dec, date_time)\n",
    "    x_arr.append(x)\n",
    "    y_arr.append(y)\n",
    "\n",
    "x_arr = np.array(x_arr)\n",
    "y_arr = np.array(y_arr)"
   ]
  },
  {
   "cell_type": "code",
   "execution_count": null,
   "id": "a2d0bb9f",
   "metadata": {},
   "outputs": [],
   "source": [
    "freq_low = 400.390625 # MHz\n",
    "freq_high = 800 # MHz\n",
    "#there's 16384 channels in the band\n",
    "freqs = np.linspace(freq_low, freq_high, 16384)/1000 # convert to GHz\n"
   ]
  },
  {
   "cell_type": "code",
   "execution_count": null,
   "id": "02554eb1",
   "metadata": {},
   "outputs": [],
   "source": [
    "sensitivity = cbm.get_sensitivity([1105], np.array([x_arr, y_arr]).T, freqs*1000).squeeze()\n",
    "#average over the spectra axis\n",
    "mean_sensitivity = np.nanmean(sensitivity, axis=1)\n",
    "#find the peak of the mean sensitivity\n",
    "peak_sensitivity_ind = np.argmax(mean_sensitivity)\n",
    "#get response at the peak\n",
    "sensitivity_at_peak = sensitivity[peak_sensitivity_ind, :]\n",
    "#divide the spectra at peak by the sensitivity at peak\n",
    "spectra_at_peak *= sensitivity_at_peak\n"
   ]
  },
  {
   "cell_type": "code",
   "execution_count": null,
   "id": "152c5347",
   "metadata": {},
   "outputs": [],
   "source": [
    "# Look at spectra of beam sensitivity\n",
    "plt.figure()\n",
    "plt.plot(freqs, sensitivity_at_peak, label='Sensitivity at Peak')\n"
   ]
  },
  {
   "cell_type": "code",
   "execution_count": null,
   "id": "2efed4c8",
   "metadata": {},
   "outputs": [],
   "source": [
    "#correct to jansky units\n",
    "spectra_at_peak /= (1024*0.8)**2*128/4/4/0.806745/400\n",
    "#get the spectrum of cyga\n",
    "a0 = 3.34598\n",
    "a1 = -1.0022\n",
    "a2 = -0.225\n",
    "a3 = 0.023\n",
    "a4= 0.043\n",
    "log_flux = a0 + a1 * np.log10(freqs) + a2 * np.log10(freqs)**2 + a3 * np.log10(freqs)**3 + a4 * np.log10(freqs)**4\n",
    "#correct the spectra at peak by the beam model\n",
    "\n",
    "plt.figure()\n",
    "plt.plot(freqs, 10**log_flux, label='CygA Spectrum')\n",
    "plt.plot(freqs, spectra_at_peak, label='CygA Spectrum at Peak')\n",
    "plt.xscale('log')\n",
    "plt.yscale('log')\n",
    "plt.xlabel('Frequency (GHz)')\n",
    "plt.ylabel('Flux Density (Jy)')\n",
    "plt.show()\n",
    "plt.imshow(sensitivity, aspect='auto', extent=(freq_low, freq_high, 0, 1200), origin='lower')\n",
    "plt.show()"
   ]
  }
 ],
 "metadata": {
  "kernelspec": {
   "display_name": "Python 3 (ipykernel)",
   "language": "python",
   "name": "python3"
  },
  "language_info": {
   "codemirror_mode": {
    "name": "ipython",
    "version": 3
   },
   "file_extension": ".py",
   "mimetype": "text/x-python",
   "name": "python",
   "nbconvert_exporter": "python",
   "pygments_lexer": "ipython3",
   "version": "3.11.13"
  }
 },
 "nbformat": 4,
 "nbformat_minor": 5
}
