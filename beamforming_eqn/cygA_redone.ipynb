{
 "cells": [
  {
   "cell_type": "code",
   "execution_count": null,
   "id": "ebc5384c",
   "metadata": {},
   "outputs": [],
   "source": [
    "import numpy as np \n",
    "import matplotlib.pyplot as plt\n",
    "import os \n",
    "import sys\n",
    "\n",
    "from astropy.coordinates import SkyCoord\n",
    "from datetime import datetime\n"
   ]
  },
  {
   "cell_type": "code",
   "execution_count": null,
   "id": "cf441e26",
   "metadata": {},
   "outputs": [],
   "source": [
    "sys.path.insert(0, '/arc/home/mseth/beam-model')\n",
    "from beam_model import composite as cmp\n",
    "\n",
    "sys.path.insert(0, '/arc/home/mseth/frb-calibration-master')\n",
    "import frb_calibration.calibration_scheduler_helpers as cal_scheduler"
   ]
  },
  {
   "cell_type": "markdown",
   "id": "4b11e67a",
   "metadata": {},
   "source": [
    " Load in data"
   ]
  },
  {
   "cell_type": "code",
   "execution_count": null,
   "id": "0897465a",
   "metadata": {},
   "outputs": [],
   "source": [
    "data = np.load('/arc/projects/chime_frb/mseth/cyg_A/frb_CYG_A_2025-07-03_beam_1105.npz', allow_pickle=True) "
   ]
  },
  {
   "cell_type": "code",
   "execution_count": null,
   "id": "5a94411a",
   "metadata": {},
   "outputs": [],
   "source": [
    "spectra = data['spectra']\n",
    "median_timeseries = data['median_timeseries']\n",
    "ts = spectra.mean(spectra, axis=0)"
   ]
  },
  {
   "cell_type": "code",
   "execution_count": null,
   "id": "333dd637",
   "metadata": {},
   "outputs": [],
   "source": [
    "# Find index of where average timeseries peaks  \n",
    "peak_idx = np.argmax(np.mean(ts))\n",
    "\n",
    "# Get the spectra for that time\n",
    "spectra_at_peak = spectra[:,peak_idx]\n"
   ]
  },
  {
   "cell_type": "markdown",
   "id": "0e766791",
   "metadata": {},
   "source": [
    "Get sensitivities"
   ]
  },
  {
   "cell_type": "code",
   "execution_count": null,
   "id": "e0c71d7d",
   "metadata": {},
   "outputs": [],
   "source": [
    "source_name = \"CYG_A\"\n",
    "coords = SkyCoord.from_name(source_name)\n",
    "\n",
    "source_ra = coords.ra.deg\n",
    "source_dec = coords.dec.deg"
   ]
  },
  {
   "cell_type": "code",
   "execution_count": null,
   "id": "0d423d60",
   "metadata": {},
   "outputs": [],
   "source": [
    "# Finding which beams are transited and what times \n",
    "\n",
    "time = datetime(2025, 7, 3)\n",
    "\n",
    "transited_beam_ids = cal_scheduler.calculate_transit_beams_precise(\n",
    "    source_ra, source_dec)\n",
    "\n",
    "transit_times = cal_scheduler.calculate_next_transit_times_precise(\n",
    "    source_ra, source_dec, time, transited_beam_ids)\n",
    "\n",
    "print(\"Precise beams transited: {}\".format(sorted(transited_beam_ids)))\n",
    "print(\"Precise transit times: {}\".format(transit_times))"
   ]
  },
  {
   "cell_type": "code",
   "execution_count": null,
   "id": "73b8ec12",
   "metadata": {},
   "outputs": [],
   "source": [
    "# Pick out the time it transits our beam \n",
    "transit_time = transit_times[2]"
   ]
  },
  {
   "cell_type": "code",
   "execution_count": null,
   "id": "8acbccd2",
   "metadata": {},
   "outputs": [],
   "source": [
    "# Make an array of times and positions\n",
    "start_time = transit_time - pd.Timedelta(minutes=10)\n",
    "end_time = transit_time - pd.Timedelta(minutes=10)\n",
    "\n",
    "datetime_arr = pd.date_range(start=start_datetime, end=end_datetime)\n",
    "\n",
    "pos_list = []\n",
    "for i in datetime_arr:\n",
    "    pos = utils.get_position_from_equatorial(source_ra, source_dec, i)\n",
    "    pos_list.append(pos)\n",
    "\n",
    "pos_array = np.array(pos_list)"
   ]
  },
  {
   "cell_type": "code",
   "execution_count": null,
   "id": "4ff00453",
   "metadata": {},
   "outputs": [],
   "source": [
    "#Calculate sensitivity \n",
    "cbm = composite.CompositeBeamModel(config.current_config)\n",
    "freqs = np.arange(400, 800, 16384)\n",
    "\n",
    "sensitivity = cbm.get_sensitivity(1105, pos_array, freqs)\n",
    "\n",
    "#Find index of where mean sensitivity is maximum \n",
    "max_sens_idx = np.argmax(np.mean(sensitivity))\n",
    "\n",
    "#Get sensitivity spectrum at max index \n",
    "sensitivity_at_peak = sensitivity[max_sens_idx,:]\n"
   ]
  },
  {
   "cell_type": "markdown",
   "id": "cc4394a0",
   "metadata": {},
   "source": [
    "Correcting"
   ]
  },
  {
   "cell_type": "code",
   "execution_count": null,
   "id": "3aab04eb",
   "metadata": {},
   "outputs": [],
   "source": [
    "corrected_spectra = spectra_at_peak / sensitivity_at_peak"
   ]
  },
  {
   "cell_type": "code",
   "execution_count": null,
   "id": "8650396c",
   "metadata": {},
   "outputs": [],
   "source": [
    "# Define conversion equation\n",
    "\n",
    "def bf_to_jy(bf_int, f_good):\n",
    "    factor = (np.square(1024) * 128) / (np.square(4) * 0.806745 * 400)\n",
    "    result = bf_int / ( factor * np.square(f_good) ) \n",
    "    return result\n",
    "\n",
    "jansky_spectra = bf_to_jy(corrected_spectra, 0.9)"
   ]
  },
  {
   "cell_type": "code",
   "execution_count": null,
   "id": "915a1f25",
   "metadata": {},
   "outputs": [],
   "source": [
    "# Make a function for the spectrum (from Perley & Butler 2016)\n",
    "\n",
    "def spectrum(a_0, a_1, a_2, a_3, GHz):\n",
    "    exponent = a_0 + (a_1 * np.log10(GHz)) + (a_2 * np.square(np.log10(GHz))) + (a_3 * np.power(np.log10(GHz),3))\n",
    "    result = 10**exponent)\n",
    "    return result \n",
    "\n",
    "cygA_spectrum = spectrum(a_0 = 3.34598,\n",
    "                         a_1 = -1.0022,\n",
    "                         a_2 = -0.225,\n",
    "                         a_3 = 0.023,\n",
    "                         #a_4= 0.043,\n",
    "                         GHz = freqs/1000)"
   ]
  },
  {
   "cell_type": "code",
   "execution_count": null,
   "id": "d17ac7e9",
   "metadata": {},
   "outputs": [],
   "source": [
    "# Plot corrected spectrum vs. modeled spectrum \n",
    "plt.figure()\n",
    "plt.plot(freqs/1000, jansky_spectra, label=\"Corrected Spectrum at Peak\")\n",
    "plt.plot(freqs/1000, cygA_spectrum, label='Model Spectrum')\n",
    "plt.yscale('log')\n",
    "plt.xscale('log') \n",
    "plt.xlabel('Frequency(GHz)')\n",
    "plt.ylabel('Flux density(Jy)')\n",
    "plt.show()"
   ]
  }
 ],
 "metadata": {
  "kernelspec": {
   "display_name": "Python 3",
   "language": "python",
   "name": "python3"
  },
  "language_info": {
   "name": "python",
   "version": "3.6.8"
  }
 },
 "nbformat": 4,
 "nbformat_minor": 5
}
