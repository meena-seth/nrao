{
 "cells": [
  {
   "cell_type": "code",
   "execution_count": 1,
   "id": "17709bf3-8026-4fe7-8e5e-9325257f6da2",
   "metadata": {},
   "outputs": [
    {
     "name": "stderr",
     "output_type": "stream",
     "text": [
      "/opt/pysetup/.venv/lib/python3.11/site-packages/chime_frb_api/__init__.py:6: UserWarning: pkg_resources is deprecated as an API. See https://setuptools.pypa.io/en/latest/pkg_resources.html. The pkg_resources package is slated for removal as early as 2025-11-30. Refrain from using this package or pin to Setuptools<81.\n",
      "  from pkg_resources import get_distribution as _get_distribution\n"
     ]
    }
   ],
   "source": [
    "import numpy as np\n",
    "import matplotlib.pyplot as plt\n",
    "import pandas as pd\n",
    "import os\n",
    "import sys\n",
    "import datetime\n",
    "from iautils import cascade\n",
    "\n",
    "from datetime import datetime\n",
    "from astropy.coordinates import SkyCoord"
   ]
  },
  {
   "cell_type": "code",
   "execution_count": 2,
   "id": "a16662ef-d261-447b-a8e1-166a0d1a614a",
   "metadata": {
    "tags": []
   },
   "outputs": [],
   "source": [
    "sys.path.append(\"/arc/home/mseth/.local/lib/python3.11/site-packages\")\n",
    "import memory_profiler\n",
    "\n",
    "\n",
    "\n",
    "%load_ext memory_profiler"
   ]
  },
  {
   "cell_type": "code",
   "execution_count": 3,
   "id": "64c46299-16dc-46df-979f-73d57e3cde04",
   "metadata": {
    "tags": []
   },
   "outputs": [],
   "source": [
    "%matplotlib inline"
   ]
  },
  {
   "cell_type": "code",
   "execution_count": 4,
   "id": "88e99e02-87bd-41ea-ab4d-3fc166a1adca",
   "metadata": {},
   "outputs": [],
   "source": [
    "sys.path.insert(0, os.path.abspath('beam-model'))\n",
    "from beam_model import utils, formed"
   ]
  },
  {
   "cell_type": "markdown",
   "id": "7d35c19e-825b-417b-9c22-46d3f0bd5abe",
   "metadata": {},
   "source": [
    "Stuff we define beforehand"
   ]
  },
  {
   "cell_type": "code",
   "execution_count": 5,
   "id": "9e2b8bc6-c083-49d2-b32d-9927f74fdcdf",
   "metadata": {},
   "outputs": [],
   "source": [
    "freqs = np.linspace(400.390625, 800, 16384)          # The data has 16384 frequency channels\n",
    "freqs_2 = np.linspace(400.390625, 800, 1024)         # The holography data has 1024 frequency channels\n",
    "has = np.array(np.linspace(-105, 104.90278, 2160))   # 2160 HAs\n",
    "\n",
    "source_name = \"TAU_A\"\n",
    "coords = SkyCoord.from_name(source_name)\n",
    "source_ra = coords.ra.deg\n",
    "source_dec = coords.dec.deg\n",
    "\n",
    "\n",
    "# BF to JY conversion equation\n",
    "def bf_to_jy(bf_spectrum, f_good):\n",
    "    factor = (np.square(1024) * 128) / (np.square(4) * 0.806745 * 400)\n",
    "    result = bf_spectrum / ( factor * np.square(f_good) ) \n",
    "    return result"
   ]
  },
  {
   "cell_type": "markdown",
   "id": "51606cbc-7a30-4747-84d5-96e5f8d05bfb",
   "metadata": {},
   "source": [
    "Data"
   ]
  },
  {
   "cell_type": "code",
   "execution_count": 6,
   "id": "2f782e4e-314e-4367-943a-32402eb5522f",
   "metadata": {
    "tags": []
   },
   "outputs": [],
   "source": [
    "data = np.load(\"/arc/projects/chime_frb/mseth/Crab_data_56_a.npz\", allow_pickle=True)\n",
    "\n",
    "dms = data['DM']\n",
    "max_tidxs = data['MAX_TIDX']\n",
    "max_timestamps = data['MAX_TIMESTAMP']\n",
    "has_at_peak = data['HA']\n",
    "y_at_peak = data['Y']\n",
    "beam_ids_string = data['BEAM_ID']\n",
    "\n",
    "beam_ids = []\n",
    "for beam_id in beam_ids_string:\n",
    "    beam_id_int = int(beam_id)\n",
    "    beam_ids.append(beam_id_int)\n",
    "\n",
    "spectra = np.load(\"/arc/projects/chime_frb/mseth/Crab_spectra_56_a.npz\")\n",
    "\n",
    "spectra_at_peak = spectra['SPECTRUM']"
   ]
  },
  {
   "cell_type": "code",
   "execution_count": null,
   "id": "2d9c77ad-e293-4f15-96d5-0a2d554d7578",
   "metadata": {
    "tags": []
   },
   "outputs": [],
   "source": [
    "plt.figure()\n",
    "plt.plot(freqs, spectra_at_peak[0])\n",
    "plt.yscale('log')\n",
    "plt.title(\"Example of uncorrected spectrum\")\n",
    "plt.show()"
   ]
  },
  {
   "cell_type": "markdown",
   "id": "fcd6b055-f41d-4fd7-940d-2210909aefc7",
   "metadata": {},
   "source": [
    "Beams & Correcting"
   ]
  },
  {
   "cell_type": "code",
   "execution_count": 12,
   "id": "7d6f333e-02eb-4aac-85a1-55df19832202",
   "metadata": {},
   "outputs": [],
   "source": [
    "## PRIMARY BEAM RESPONSE ##\n",
    "\n",
    "# Load in holography data \n",
    "path = \"/arc/projects/chime_frb/mseth/holography_data\"\n",
    "\n",
    "npz_files = []\n",
    "for (root, dirs, file) in os.walk(path):\n",
    "    for f in file: \n",
    "        npz_files.append(os.path.join(root, f))\n",
    "xx_list = []\n",
    "yy_list = []\n",
    "for file in npz_files:\n",
    "    data = np.load(file)\n",
    "    xx = data['XX']\n",
    "    yy = data['YY']\n",
    "    xx_list.append(xx)\n",
    "    yy_list.append(yy)\n",
    "\n",
    "xx = np.vstack(xx_list)\n",
    "yy = np.vstack(yy_list)\n",
    "intensity = xx + yy / 2"
   ]
  },
  {
   "cell_type": "code",
   "execution_count": 13,
   "id": "4f3eeeb5-15e0-4018-8252-493c442cbc28",
   "metadata": {
    "tags": []
   },
   "outputs": [],
   "source": [
    "intensity_masked = intensity[:,1760:1840]\n",
    "intensity_max = np.max(intensity_masked)\n",
    "intensity_norm = intensity / intensity_max"
   ]
  },
  {
   "cell_type": "code",
   "execution_count": 14,
   "id": "19a0c39c-65a8-4437-8439-1521b9d4487a",
   "metadata": {
    "tags": []
   },
   "outputs": [
    {
     "data": {
      "text/plain": [
       "(1024, 2160)"
      ]
     },
     "execution_count": 14,
     "metadata": {},
     "output_type": "execute_result"
    }
   ],
   "source": [
    "intensity_norm.shape"
   ]
  },
  {
   "cell_type": "code",
   "execution_count": 16,
   "id": "9f5d3aa1-8d4e-43e3-a58e-c349fd935451",
   "metadata": {
    "tags": []
   },
   "outputs": [],
   "source": [
    "# Get spectra at every peak HA \n",
    "presponse_norm = []\n",
    "\n",
    "for ha in has_at_peak:\n",
    "    idx = (np.abs(has - ha)).argmin()              # Find index of closest HA to HA at peak\n",
    "    xx_response = xx[:,idx]\n",
    "    yy_response = yy[:, idx]\n",
    "    \n",
    "    int_response = intensity_norm[:,idx]           # Get intensity spectrum at that HA \n",
    "    presponse_norm.append(int_response)"
   ]
  },
  {
   "cell_type": "code",
   "execution_count": 32,
   "id": "e8d3a336-c9d7-48d4-92ce-8925d89ce9de",
   "metadata": {
    "tags": []
   },
   "outputs": [],
   "source": [
    "# Get spectra at every peak HA \n",
    "presponse_norm = []\n",
    "\n",
    "for ha in has_at_peak:\n",
    "    idx = (np.abs(has - ha)).argmin()         # Find index of closest HA to HA at peak\n",
    "    xx_response = xx[:,idx]\n",
    "    yy_response = yy[:, idx]\n",
    "    \n",
    "    int_response = intensity[:,idx]           # Get intensity spectrum at that HA \n",
    "    int_masked = intensity[:,1760:1840]       # Get maximum intensity in the main beam\n",
    "    intensity_max = np.max(int_masked)       \n",
    "    \n",
    "    int_norm = int_response / intensity_max   # Normalize intensity spectrum at the HA\n",
    "    int_norm[int_norm==0] = np.nan\n",
    "    presponse_norm.append(int_norm)"
   ]
  },
  {
   "cell_type": "code",
   "execution_count": 36,
   "id": "5640ae5b-e042-4f80-a3a8-548b9016f80e",
   "metadata": {},
   "outputs": [],
   "source": [
    "## CORRECTING FOR PRIMARY BEAM RESPONSE ##\n",
    "\n",
    "p_corrected_sp = []\n",
    "\n",
    "for i, (spectra, presponse) in enumerate(zip(spectra_at_peak, presponse_norm)):\n",
    "    downsampled_spectra = spectra[::16]                           # Downsample data from 16384 freq channels to 1024 (to match holography\n",
    "    spectra_at_peak_corrected = downsampled_spectra / presponse   # Correction\n",
    "    p_corrected_sp.append(spectra_at_peak_corrected)"
   ]
  },
  {
   "cell_type": "code",
   "execution_count": 38,
   "id": "4979d5f3-5c96-421a-8ae7-484f50f7e44f",
   "metadata": {},
   "outputs": [],
   "source": [
    "## SYNTHESIZED BEAM RESPONSE + CORRECTING\n",
    "\n",
    "sbm = formed.FFTFormedSincBeamModel()\n",
    "\n",
    "calibrated_spectra = []\n",
    "\n",
    "for i, (beam_id, ha, y, spectrum) in enumerate(zip(beam_ids, has_at_peak, y_at_peak, p_corrected_sp)):\n",
    "    sensitivity = sbm.get_sensitivity(beam_id, np.array([ha, y]).T, freqs_2).squeeze()\n",
    "    \n",
    "    mean_sensitivity = np.nanmean(sensitivity)            # Average sensitivity across frequencies\n",
    "    peak_sensitivity_ind = np.argmax(mean_sensitivity)            \n",
    "    sensitivity_at_peak = sensitivity[peak_sensitivity_ind]    # Spectrum of synthesized response at its peak\n",
    "\n",
    "    spectra_corrected = spectrum / sensitivity_at_peak            # Correction\n",
    "    spectra_jy = bf_to_jy(spectra_corrected, 1)                   # Conversion\n",
    "    calibrated_spectra.append(spectra_jy)"
   ]
  },
  {
   "cell_type": "code",
   "execution_count": 39,
   "id": "b9f968d0-f852-4247-8968-55f73d8adb16",
   "metadata": {
    "tags": []
   },
   "outputs": [],
   "source": [
    "mean_fluxes = []\n",
    "\n",
    "for calibrated_spectrum in calibrated_spectra:\n",
    "    mean = np.nanmean(calibrated_spectrum)\n",
    "    mean_fluxes.append(mean)"
   ]
  },
  {
   "cell_type": "code",
   "execution_count": 40,
   "id": "9b0fde61-478d-48f6-8767-f2c75e0fa586",
   "metadata": {
    "tags": []
   },
   "outputs": [
    {
     "data": {
      "text/plain": [
       "[1121687832205.0056,\n",
       " 536222147.3534351,\n",
       " 280283139224.32556,\n",
       " 2256157179188.247,\n",
       " 24656992705.41428,\n",
       " 8282696247852.858,\n",
       " 3.5282452958388314e+19,\n",
       " 282726848665.928,\n",
       " 86183637442282.05,\n",
       " 224440465230852.03,\n",
       " 18435431943913.63,\n",
       " 777350185.357396,\n",
       " 3610489961346.882,\n",
       " 491954540277.0261,\n",
       " 9640807620.537743,\n",
       " 995147016347.0468,\n",
       " 1993078372205.9478,\n",
       " 1164495945544.52,\n",
       " 2469346303845.7925]"
      ]
     },
     "execution_count": 40,
     "metadata": {},
     "output_type": "execute_result"
    }
   ],
   "source": [
    "mean_fluxes"
   ]
  },
  {
   "cell_type": "code",
   "execution_count": 41,
   "id": "5b25e376-3917-4a8d-bea8-1581ccd493db",
   "metadata": {
    "tags": []
   },
   "outputs": [
    {
     "data": {
      "image/png": "[encoded data removed]",
      "text/plain": [
       "<Figure size 640x480 with 1 Axes>"
      ]
     },
     "metadata": {},
     "output_type": "display_data"
    }
   ],
   "source": [
    "plt.figure()\n",
    "plt.plot(freqs_2/1000, calibrated_spectra[0])\n",
    "plt.yscale('log')\n",
    "plt.xscale('log')\n",
    "plt.show()"
   ]
  }
 ],
 "metadata": {
  "kernelspec": {
   "display_name": "Python 3 (ipykernel)",
   "language": "python",
   "name": "python3"
  },
  "language_info": {
   "codemirror_mode": {
    "name": "ipython",
    "version": 3
   },
   "file_extension": ".py",
   "mimetype": "text/x-python",
   "name": "python",
   "nbconvert_exporter": "python",
   "pygments_lexer": "ipython3",
   "version": "3.11.13"
  }
 },
 "nbformat": 4,
 "nbformat_minor": 5
}
