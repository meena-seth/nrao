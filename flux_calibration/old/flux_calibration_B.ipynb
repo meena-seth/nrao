{
 "cells": [
  {
   "cell_type": "code",
   "execution_count": 1,
   "id": "38d128b4-71eb-4e82-bbbd-710a66ea0262",
   "metadata": {
    "tags": []
   },
   "outputs": [
    {
     "name": "stderr",
     "output_type": "stream",
     "text": [
      "/opt/pysetup/.venv/lib/python3.11/site-packages/chime_frb_api/__init__.py:6: UserWarning: pkg_resources is deprecated as an API. See https://setuptools.pypa.io/en/latest/pkg_resources.html. The pkg_resources package is slated for removal as early as 2025-11-30. Refrain from using this package or pin to Setuptools<81.\n",
      "  from pkg_resources import get_distribution as _get_distribution\n"
     ]
    }
   ],
   "source": [
    "import numpy as np\n",
    "import matplotlib.pyplot as plt\n",
    "import pandas as pd\n",
    "import os\n",
    "import sys\n",
    "import datetime\n",
    "from iautils import cascade\n",
    "\n",
    "from datetime import datetime\n",
    "from astropy.coordinates import SkyCoord\n",
    "\n",
    "sys.path.insert(0, os.path.abspath('beam-model'))\n",
    "from beam_model import utils, formed\n",
    "\n",
    "%matplotlib inline"
   ]
  },
  {
   "cell_type": "code",
   "execution_count": 2,
   "id": "bf7d8983-c9ab-4744-a719-0c88e544e62b",
   "metadata": {
    "tags": []
   },
   "outputs": [],
   "source": [
    "files = np.load(\"/arc/projects/chime_frb/mseth/Crab_Filepaths_1.npz\")\n",
    "crab_norescaled_filepaths = files['filepath']"
   ]
  },
  {
   "cell_type": "code",
   "execution_count": 3,
   "id": "64759b06-6455-4eb6-a029-2d69bcc5b064",
   "metadata": {
    "tags": []
   },
   "outputs": [
    {
     "name": "stdout",
     "output_type": "stream",
     "text": [
      "Preprocessing...\n",
      "using L1 weights\n",
      "Preprocessing...\n",
      "using L1 weights\n",
      "Preprocessing...\n",
      "using L1 weights\n",
      "Preprocessing...\n",
      "using L1 weights\n",
      "Preprocessing...\n",
      "using L1 weights\n",
      "Preprocessing...\n",
      "using L1 weights\n",
      "Preprocessing...\n",
      "using L1 weights\n",
      "Preprocessing...\n",
      "using L1 weights\n",
      "Preprocessing...\n",
      "using L1 weights\n",
      "Preprocessing...\n",
      "using L1 weights\n",
      "Preprocessing...\n",
      "using L1 weights\n",
      "Preprocessing...\n",
      "using L1 weights\n",
      "De-dispersing to 56.7 pc cm-3..\n",
      "Using 400.1953125 MHz as reference..\n",
      "Padding shifted channels using median value..\n",
      "\n"
     ]
    },
    {
     "name": "stderr",
     "output_type": "stream",
     "text": [
      "/opt/pysetup/.venv/lib/python3.11/site-packages/iautils/spectra.py:435: RuntimeWarning: All-NaN slice encountered\n",
      "  pad = np.nanmedian(self.intensity, axis=1)\n"
     ]
    },
    {
     "name": "stdout",
     "output_type": "stream",
     "text": [
      "De-dispersing to 56.7 pc cm-3..\n",
      "Using 400.1953125 MHz as reference..\n",
      "Padding shifted channels using median value..\n",
      "\n",
      "De-dispersing to 56.7 pc cm-3..\n",
      "Using 400.1953125 MHz as reference..\n",
      "Padding shifted channels using median value..\n",
      "\n",
      "De-dispersing to 56.7 pc cm-3..\n",
      "Using 400.1953125 MHz as reference..\n",
      "Padding shifted channels using median value..\n",
      "\n",
      "De-dispersing to 56.7 pc cm-3..\n",
      "Using 400.1953125 MHz as reference..\n",
      "Padding shifted channels using median value..\n",
      "\n",
      "De-dispersing to 56.7 pc cm-3..\n",
      "Using 400.1953125 MHz as reference..\n",
      "Padding shifted channels using median value..\n",
      "\n",
      "De-dispersing to 56.7 pc cm-3..\n",
      "Using 400.1953125 MHz as reference..\n",
      "Padding shifted channels using median value..\n",
      "\n",
      "De-dispersing to 56.7 pc cm-3..\n",
      "Using 400.1953125 MHz as reference..\n",
      "Padding shifted channels using median value..\n",
      "\n",
      "De-dispersing to 56.7 pc cm-3..\n",
      "Using 400.1953125 MHz as reference..\n",
      "Padding shifted channels using median value..\n",
      "\n",
      "De-dispersing to 56.7 pc cm-3..\n",
      "Using 400.1953125 MHz as reference..\n",
      "Padding shifted channels using median value..\n",
      "\n",
      "De-dispersing to 56.7 pc cm-3..\n",
      "Using 400.1953125 MHz as reference..\n",
      "Padding shifted channels using median value..\n",
      "\n",
      "De-dispersing to 56.7 pc cm-3..\n",
      "Using 400.1953125 MHz as reference..\n",
      "Padding shifted channels using median value..\n",
      "\n"
     ]
    },
    {
     "ename": "NameError",
     "evalue": "name 'test_obj' is not defined",
     "output_type": "error",
     "traceback": [
      "\u001b[31m---------------------------------------------------------------------------\u001b[39m",
      "\u001b[31mNameError\u001b[39m                                 Traceback (most recent call last)",
      "\u001b[36mCell\u001b[39m\u001b[36m \u001b[39m\u001b[32mIn[3]\u001b[39m\u001b[32m, line 25\u001b[39m\n\u001b[32m     23\u001b[39m beam_id = \u001b[38;5;28mint\u001b[39m(beam.beam_no)\n\u001b[32m     24\u001b[39m max_tidx = np.argmax(ts)\n\u001b[32m---> \u001b[39m\u001b[32m25\u001b[39m max_timestamp = \u001b[43mtest_obj\u001b[49m.event_time \n\u001b[32m     26\u001b[39m spectrum_at_peak = max_beam.intensity[:, max_tidx]\n\u001b[32m     28\u001b[39m beam_ids.append(beam_id)\n",
      "\u001b[31mNameError\u001b[39m: name 'test_obj' is not defined"
     ]
    }
   ],
   "source": [
    "# Find index of max beam\n",
    "\n",
    "max_beam_idxs = []\n",
    "\n",
    "for filepath in crab_norescaled_filepaths:\n",
    "    cascade_obj = cascade.load_cascade_from_file(filepath)\n",
    "    cascade_obj.dm = 56.7 # Dedispersing \n",
    "    \n",
    "    peaks = []\n",
    "    for beam in cascade_obj.beams:\n",
    "        mean_ts = np.nanmean(beam.intensity, axis=0)\n",
    "        mean_ts_masked = mean_ts[0:200]\n",
    "        offpeak_mean = np.nanmean(mean_ts_masked)\n",
    "    \n",
    "        subtracted_ts = mean_ts - offpeak_mean\n",
    "        peak = np.max(subtracted_ts)\n",
    "        peaks.append(peak) \n",
    "    \n",
    "    max_beam_idx = np.argmax(peaks)\n",
    "    max_beam = cascade_obj.beams[max_beam_idx]\n",
    "    ts = np.nansum(max_beam.intensity, axis=0)\n",
    "\n",
    "    beam_id = int(beam.beam_no)\n",
    "    max_tidx = np.argmax(ts)\n",
    "    max_timestamp = test_obj.event_time \n",
    "    spectrum_at_peak = max_beam.intensity[:, max_tidx]\n",
    "    \n",
    "    beam_ids.append(beam_id)\n",
    "    max_tidxs.append(max_tidx)\n",
    "    max_timestamps.append(max_timestamp)\n",
    "    spectra_at_peak.append(spectrum_at_peak)"
   ]
  },
  {
   "cell_type": "code",
   "execution_count": null,
   "id": "bdbeb806-b4ed-43c8-b625-ad3f67a94e4d",
   "metadata": {},
   "outputs": [],
   "source": []
  }
 ],
 "metadata": {
  "kernelspec": {
   "display_name": "Python 3 (ipykernel)",
   "language": "python",
   "name": "python3"
  },
  "language_info": {
   "codemirror_mode": {
    "name": "ipython",
    "version": 3
   },
   "file_extension": ".py",
   "mimetype": "text/x-python",
   "name": "python",
   "nbconvert_exporter": "python",
   "pygments_lexer": "ipython3",
   "version": "3.11.13"
  }
 },
 "nbformat": 4,
 "nbformat_minor": 5
}
