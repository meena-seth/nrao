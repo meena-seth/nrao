{
 "cells": [
  {
   "cell_type": "code",
   "execution_count": 1,
   "id": "c1dd14b1-5d15-4a83-af23-260932f7cef7",
   "metadata": {},
   "outputs": [],
   "source": [
    "import iautils\n",
    "import numpy as np \n",
    "import matplotlib.pyplot as plt\n",
    "%matplotlib inline\n",
    "\n",
    "import os"
   ]
  },
  {
   "cell_type": "code",
   "execution_count": null,
   "id": "7234344f-cc14-404e-9199-f572b02b5bb6",
   "metadata": {},
   "outputs": [],
   "source": [
    "def SNR_ns(SNR_ms, w_ns):\n",
    "    result = SNR_ms * 10**3 / w_ns\n",
    "    return result "
   ]
  },
  {
   "cell_type": "code",
   "execution_count": null,
   "id": "40756aba-2289-494a-9c77-958a1b2012ef",
   "metadata": {},
   "outputs": [],
   "source": [
    "my_x = np.arange(0.2, 10000, 0.5)\n",
    "my_y = SNR_ns(SNR_ms = 8, \n",
    "              w_ns = my_x)\n",
    "ref_x = 1\n",
    "ref_y = 8000\n",
    "\n",
    "fig, ax = plt.subplot_mosaic(\n",
    "    '''\n",
    "    AB\n",
    "    ''',\n",
    "    figsize = (8, 8/3),\n",
    "    constrained_layout = True\n",
    ")\n",
    "\n",
    "ax['A'].set_xlim(0.0, 20)\n",
    "ax['A'].plot(my_x, my_y,\n",
    "             color = 'b',\n",
    "             marker = 'None',\n",
    "             linestyle = '-',\n",
    "             lw = 1.2)\n",
    "ax['A'].text(1, 8000, '(1, 8000)')\n",
    "ax['A'].scatter(ref_x, ref_y,\n",
    "                color ='r',\n",
    "                s = 10)\n",
    "ax['A'].set_xlabel('Pulse width, ns')\n",
    "ax['A'].set_ylabel('SNR for ms')\n",
    "ax['A'].set_title('No change')\n",
    "ax['A'].grid(True, which='both', color='gray', lw=0.4)\n",
    "\n",
    "ax['B'].set_xscale('log')\n",
    "ax['B'].set_yscale('log')\n",
    "ax['B'].plot(my_x, my_y,\n",
    "             color = 'b',\n",
    "             marker = 'None',\n",
    "             linestyle = '-',\n",
    "             lw = 1.2)\n",
    "ax['B'].scatter(ref_x, ref_y,\n",
    "                color ='r',\n",
    "                s = 10)\n",
    "ax['B'].text(1, 8000, '(1, 8000)')\n",
    "ax['B'].grid(True, which='both', color='gray', lw = 0.4)\n",
    "ax['B'].set_xlabel('Pulse width, ns (log scale)')\n",
    "ax['B'].set_ylabel('SNR for ms (log scale)')\n",
    "ax['B'].set_title('Log-log')\n",
    "\n",
    "fig.suptitle('SNR for ns given SNR for ms = 8')\n",
    "\n",
    "plt.show()"
   ]
  }
 ],
 "metadata": {
  "kernelspec": {
   "display_name": "Python [conda env:conda-student-rhel8] *",
   "language": "python",
   "name": "conda-env-conda-student-rhel8-py"
  },
  "language_info": {
   "codemirror_mode": {
    "name": "ipython",
    "version": 3
   },
   "file_extension": ".py",
   "mimetype": "text/x-python",
   "name": "python",
   "nbconvert_exporter": "python",
   "pygments_lexer": "ipython3",
   "version": "3.11.9"
  }
 },
 "nbformat": 4,
 "nbformat_minor": 5
}
