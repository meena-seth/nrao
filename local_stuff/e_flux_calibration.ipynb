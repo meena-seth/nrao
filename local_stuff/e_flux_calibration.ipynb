{
 "cells": [
  {
   "cell_type": "code",
   "execution_count": 1,
   "id": "e2d3b4f0-82c9-4fea-a9eb-aa6a37e0ed2c",
   "metadata": {},
   "outputs": [],
   "source": [
    "import numpy as np\n",
    "import matplotlib.pyplot as plt\n",
    "import os\n",
    "import sys\n",
    "import datetime\n",
    "from datetime import datetime\n",
    "from astropy.coordinates import SkyCoord\n"
   ]
  },
  {
   "cell_type": "code",
   "execution_count": 2,
   "id": "ca785ab6-3c08-4680-8b7a-99e6823eab44",
   "metadata": {},
   "outputs": [],
   "source": [
    "import pandas as pd"
   ]
  },
  {
   "cell_type": "code",
   "execution_count": 3,
   "id": "bd8a18be-e0e7-4c8a-ac59-5f5a79a93a4b",
   "metadata": {},
   "outputs": [],
   "source": [
    "%matplotlib inline"
   ]
  },
  {
   "cell_type": "code",
   "execution_count": 4,
   "id": "6c1f7720-619c-4b64-b250-b08e88d7e43d",
   "metadata": {},
   "outputs": [],
   "source": [
    "%matplotlib ipympl "
   ]
  },
  {
   "cell_type": "code",
   "execution_count": 22,
   "id": "2b74d6f9-b19d-40f6-b59b-24f4948676cc",
   "metadata": {},
   "outputs": [
    {
     "name": "stdout",
     "output_type": "stream",
     "text": [
      "/users/mseth\n"
     ]
    }
   ],
   "source": [
    "os.chdir(os.path.expanduser(\"~\"))\n",
    "print(os.getcwd())"
   ]
  },
  {
   "cell_type": "code",
   "execution_count": 6,
   "id": "04782354-9310-4c76-8fa2-49daea6d436f",
   "metadata": {},
   "outputs": [],
   "source": [
    "## DATA ##\n",
    "# Load in data files\n",
    "\n",
    "files = np.load('crab_files.npz', allow_pickle=True)\n",
    "\n",
    "filepaths = files['crab_filepaths']\n",
    "cascade_objs = files['crab_cascadeobj']"
   ]
  },
  {
   "cell_type": "markdown",
   "id": "e51c983e-b5b1-42e5-a4c7-f5b6d24fcc8c",
   "metadata": {},
   "source": [
    "## Holography"
   ]
  },
  {
   "cell_type": "code",
   "execution_count": 25,
   "id": "154e8b94-ed51-4ba4-922a-c7eb5070bb2b",
   "metadata": {},
   "outputs": [],
   "source": [
    "sys.path.insert(0, os.path.abspath('beam-model'))\n",
    "from beam_model import utils\n",
    "from beam_model import formed "
   ]
  },
  {
   "cell_type": "code",
   "execution_count": 26,
   "id": "a8dcf161-5083-4628-aa9c-06af7a0a6240",
   "metadata": {},
   "outputs": [
    {
     "name": "stdout",
     "output_type": "stream",
     "text": [
      "/users/mseth/beam-model\n"
     ]
    }
   ],
   "source": [
    "print(sys.path[0])   "
   ]
  },
  {
   "cell_type": "code",
   "execution_count": 27,
   "id": "72d51ee7-0690-4adb-881e-611b95e7064b",
   "metadata": {},
   "outputs": [],
   "source": [
    "## DATA ##\n",
    "# Get timestamps & indices for every peak \n",
    "\n",
    "max_timestamps = [] \n",
    "max_tidxs = []\n",
    "\n",
    "for i, cascade_obj in enumerate(cascade_objs):\n",
    "    ts = np.nansum(cascade_objs[i].beams[cascade_objs[i]._max_beam_idx].intensity, axis=0)\n",
    "    max_time = np.argmax(ts)\n",
    "    max_timestamp = cascade_objs[i].event_time + pd.Timedelta(seconds = max_time / 1000)\n",
    "    \n",
    "    max_timestamps.append(max_timestamp)\n",
    "    max_tidxs.append(max_time)"
   ]
  },
  {
   "cell_type": "code",
   "execution_count": 28,
   "id": "ea85a2c4-2afd-4a65-8fb0-ee7162f7d5ba",
   "metadata": {},
   "outputs": [],
   "source": [
    "## DATA ##\n",
    "# Get HA (in CHIME) where each peak occurred\n",
    "\n",
    "source_name = \"CYG_A\"\n",
    "coords = SkyCoord.from_name(source_name)\n",
    "source_ra = coords.ra.deg\n",
    "source_dec = coords.dec.deg\n",
    "\n",
    "has_at_peak = []\n",
    "y_at_peak = []\n",
    "for timestamp in max_timestamps:\n",
    "    x, y = utils.get_position_from_equatorial(source_ra, source_dec, timestamp)\n",
    "    has_at_peak.append(x)\n",
    "    y_at_peak.append(y)"
   ]
  },
  {
   "cell_type": "code",
   "execution_count": null,
   "id": "8538fe96-d70b-4d71-8cc7-ed072ac76c56",
   "metadata": {},
   "outputs": [],
   "source": [
    "freqs = np.linspace(400.390625, 800, 256)    # The data has 256 frequency channels\n",
    "\n",
    "has = np.array(np.linspace(-105, 104.90278, 1024))"
   ]
  },
  {
   "cell_type": "code",
   "execution_count": 29,
   "id": "2074a416-555b-4e6f-b2b1-b2ab059fd5f2",
   "metadata": {},
   "outputs": [
    {
     "ename": "NameError",
     "evalue": "name 'has' is not defined",
     "output_type": "error",
     "traceback": [
      "\u001b[0;31m---------------------------------------------------------------------------\u001b[0m",
      "\u001b[0;31mNameError\u001b[0m                                 Traceback (most recent call last)",
      "Cell \u001b[0;32mIn[29], line 27\u001b[0m\n\u001b[1;32m     24\u001b[0m int_responses \u001b[38;5;241m=\u001b[39m []\n\u001b[1;32m     26\u001b[0m \u001b[38;5;28;01mfor\u001b[39;00m ha \u001b[38;5;129;01min\u001b[39;00m has_at_peak:\n\u001b[0;32m---> 27\u001b[0m     idx \u001b[38;5;241m=\u001b[39m (np\u001b[38;5;241m.\u001b[39mabs(\u001b[43mhas\u001b[49m \u001b[38;5;241m-\u001b[39m ha))\u001b[38;5;241m.\u001b[39margmin()\n\u001b[1;32m     28\u001b[0m     xx_response \u001b[38;5;241m=\u001b[39m xx[:,idx]\n\u001b[1;32m     29\u001b[0m     yy_response \u001b[38;5;241m=\u001b[39m yy[:, idx]\n",
      "\u001b[0;31mNameError\u001b[0m: name 'has' is not defined"
     ]
    }
   ],
   "source": [
    "## BEAM ##\n",
    "# Load in the beam response holography data \n",
    "\n",
    "path = \"/users/mseth/holography_data/npz_files\"\n",
    "\n",
    "npz_files = []\n",
    "for (root, dirs, file) in os.walk(path):\n",
    "    for f in file: \n",
    "        npz_files.append(os.path.join(root, f))\n",
    "xx_list = []\n",
    "yy_list = []\n",
    "for file in npz_files:\n",
    "    data = np.load(file)\n",
    "    xx = data['XX']\n",
    "    yy = data['YY']\n",
    "    xx_list.append(xx)\n",
    "    yy_list.append(yy)\n",
    "\n",
    "xx = np.vstack(xx_list)\n",
    "yy = np.vstack(yy_list)\n",
    "intensity = xx + yy / 2\n",
    "\n",
    "# Get spectra of primary beam response at every HA \n",
    "int_responses = []\n",
    "\n",
    "for ha in has_at_peak:\n",
    "    idx = (np.abs(has - ha)).argmin()\n",
    "    xx_response = xx[:,idx]\n",
    "    yy_response = yy[:, idx]\n",
    "    int_response = intensity[:,idx]\n",
    "    int_responses.append(int_response)"
   ]
  },
  {
   "cell_type": "code",
   "execution_count": null,
   "id": "f9f7de38-d3f2-42f6-a560-5eaa7d2b0d0a",
   "metadata": {},
   "outputs": [],
   "source": [
    "## DATA ## \n",
    "# Get spectra at every peak time \n",
    "spectra = []\n",
    "\n",
    "for i, (cascade_obj, max_tidx) in enumerate(zip(cascade_objs, max_tidxs)):\n",
    "    spectrum = cascade_objs[i].beams[cascade_objs[i]._max_beam_idx].intensity[:, max_tidx]\n",
    "    spectra.append(spectrum)\n",
    "\n",
    "spectra_at_peak = np.vstack(spectra)"
   ]
  },
  {
   "cell_type": "code",
   "execution_count": null,
   "id": "68131298-8d40-4191-8615-f4e28bf85e27",
   "metadata": {},
   "outputs": [],
   "source": [
    "## DATA & BEAM RESPONSE ##\n",
    "\n",
    "holo_corrected_sp = []\n",
    "\n",
    "for i, (spectra, int_response) in enumerate(zip(spectra_at_peak, int_responses)):\n",
    "    int_response_ds = int_response[::4]\n",
    "    spectra_at_peak_corrected = spectra_at_peak / int_response_ds\n",
    "    holo_corrected_sp.append(spectra_at_peak_corrected)"
   ]
  },
  {
   "cell_type": "markdown",
   "id": "f2d71d41-c279-4dfe-87d7-0fcf2d7a1c1a",
   "metadata": {},
   "source": [
    "## Beamforming"
   ]
  },
  {
   "cell_type": "code",
   "execution_count": 122,
   "id": "58b53588-ac4a-42bf-9dae-b509a191fd79",
   "metadata": {},
   "outputs": [],
   "source": [
    "# Load in beam model \n",
    "sbm = formed.FFTFormedBeamModel()"
   ]
  },
  {
   "cell_type": "code",
   "execution_count": null,
   "id": "6e17e66a-2a9d-4b37-ae5d-2e8369f77d77",
   "metadata": {},
   "outputs": [],
   "source": [
    "def bf_to_jy(bf_spectrum, f_good):\n",
    "    factor = (np.square(1024) * 128) / (np.square(4) * 0.806745 * 400)\n",
    "    result = bf_spectrum / ( factor * np.square(f_good) ) \n",
    "    return result"
   ]
  },
  {
   "cell_type": "code",
   "execution_count": null,
   "id": "10e9bf5e-cfd2-4a1c-b8b2-8d2ea2c263a3",
   "metadata": {},
   "outputs": [],
   "source": [
    "## DATA ##\n",
    "# Get list of every beam id \n",
    "\n",
    "beam_ids = []\n",
    "for cascade_obj in cascade_objs:\n",
    "    beam_id = cascade_obj.beams[cascade_obj.__max_beam_id].beam_no\n",
    "    beam_ids.append(beam_id)"
   ]
  },
  {
   "cell_type": "code",
   "execution_count": null,
   "id": "2995d6be-4c1d-4a5b-a8c3-9c643fa53283",
   "metadata": {},
   "outputs": [],
   "source": [
    "calibrated_spectra = []\n",
    "\n",
    "for i, (spectrum, max_tidx, ha, y, beam_id) in enumerate(zip(holo_corrected_sp, has, y_at_peak, max_tidxs, beam_ids)):\n",
    "    sensitivity = sbm.get_sensitivity([beam_id], np.array([ha, y_at_peak]).T, freqs).squeeze()\n",
    "    \n",
    "    mean_sensitivity = np.nanmean(sensitivity, axis=1)            #average over the spectra axis\n",
    "    peak_sensitivity_ind = np.argmax(mean_sensitivity)            #find the peak of the mean sensitivity\n",
    "    sensitivity_at_peak = sensitivity[peak_sensitivity_ind, :]    #Response at peak\n",
    "\n",
    "    spectra_corrected = spectrum / sensitivity_at_peak\n",
    "    spectra_jy = bf_to_jy(spectra_corrected, 1)\n",
    "    calibrated_spectra.append(spectra_jy)"
   ]
  },
  {
   "cell_type": "code",
   "execution_count": null,
   "id": "41ff3cac-8a2b-481f-be4d-aeeb69d73970",
   "metadata": {},
   "outputs": [],
   "source": [
    "for spectrum in calibrated_spectra:\n",
    "    mean_flux = np.mean(spectrum)"
   ]
  }
 ],
 "metadata": {
  "kernelspec": {
   "display_name": "Python 3 (ipykernel)",
   "language": "python",
   "name": "python3"
  },
  "language_info": {
   "codemirror_mode": {
    "name": "ipython",
    "version": 3
   },
   "file_extension": ".py",
   "mimetype": "text/x-python",
   "name": "python",
   "nbconvert_exporter": "python",
   "pygments_lexer": "ipython3",
   "version": "3.11.13"
  }
 },
 "nbformat": 4,
 "nbformat_minor": 5
}
