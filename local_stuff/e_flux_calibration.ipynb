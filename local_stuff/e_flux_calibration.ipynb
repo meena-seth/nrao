{
 "cells": [
  {
   "cell_type": "code",
   "execution_count": 4,
   "id": "e2d3b4f0-82c9-4fea-a9eb-aa6a37e0ed2c",
   "metadata": {},
   "outputs": [],
   "source": [
    "import numpy as np\n",
    "import os"
   ]
  },
  {
   "cell_type": "code",
   "execution_count": 6,
   "id": "2b74d6f9-b19d-40f6-b59b-24f4948676cc",
   "metadata": {},
   "outputs": [
    {
     "name": "stdout",
     "output_type": "stream",
     "text": [
      "/users/mseth\n"
     ]
    }
   ],
   "source": [
    "os.chdir(os.path.expanduser(\"~\"))\n",
    "print(os.getcwd())"
   ]
  },
  {
   "cell_type": "code",
   "execution_count": 10,
   "id": "04782354-9310-4c76-8fa2-49daea6d436f",
   "metadata": {},
   "outputs": [],
   "source": [
    "files = np.load('crab_files.npz', allow_pickle=True)"
   ]
  },
  {
   "cell_type": "code",
   "execution_count": 11,
   "id": "f025420d-9d3c-4c25-b001-6b6a5282f58e",
   "metadata": {},
   "outputs": [],
   "source": [
    "filepaths = files['crab_filepaths']\n",
    "cascade_objs = files['crab_cascadeobj']"
   ]
  },
  {
   "cell_type": "code",
   "execution_count": 12,
   "id": "8557e759-7419-40af-9d8a-798297722237",
   "metadata": {},
   "outputs": [
    {
     "data": {
      "text/plain": [
       "array(['/users/mseth/Documents/cascades/cascade_247226617.npz',\n",
       "       '/users/mseth/Documents/cascades/cascade_247263892.npz',\n",
       "       '/users/mseth/Documents/cascades/cascade_247400770.npz',\n",
       "       '/users/mseth/Documents/cascades/cascade_249781593.npz',\n",
       "       '/users/mseth/Documents/cascades/cascade_250014167.npz',\n",
       "       '/users/mseth/Documents/cascades/cascade_256372787.npz',\n",
       "       '/users/mseth/Documents/cascades/cascade_256556093.npz',\n",
       "       '/users/mseth/Documents/cascades/cascade_256851833.npz',\n",
       "       '/users/mseth/Documents/cascades/cascade_257057841.npz',\n",
       "       '/users/mseth/Documents/cascades/cascade_257070587.npz',\n",
       "       '/users/mseth/Documents/cascades/cascade_257082448.npz',\n",
       "       '/users/mseth/Documents/cascades/cascade_257145241.npz',\n",
       "       '/users/mseth/Documents/cascades/cascade_259575617.npz',\n",
       "       '/users/mseth/Documents/cascades/cascade_259705832.npz',\n",
       "       '/users/mseth/Documents/cascades/cascade_259930927.npz',\n",
       "       '/users/mseth/Documents/cascades/cascade_270512316.npz',\n",
       "       '/users/mseth/Documents/cascades/cascade_270562001.npz',\n",
       "       '/users/mseth/Documents/cascades/cascade_271111940.npz',\n",
       "       '/users/mseth/Documents/cascades/cascade_272252436.npz',\n",
       "       '/users/mseth/Documents/cascades/cascade_273946896.npz',\n",
       "       '/users/mseth/Documents/cascades/cascade_274084929.npz',\n",
       "       '/users/mseth/Documents/cascades/cascade_274627810.npz',\n",
       "       '/users/mseth/Documents/cascades/cascade_274628971.npz',\n",
       "       '/users/mseth/Documents/cascades/cascade_274747702.npz',\n",
       "       '/users/mseth/Documents/cascades/cascade_274750317.npz',\n",
       "       '/users/mseth/Documents/cascades/cascade_285652591.npz',\n",
       "       '/users/mseth/Documents/cascades/cascade_285887713.npz',\n",
       "       '/users/mseth/Documents/cascades/cascade_285893926.npz',\n",
       "       '/users/mseth/Documents/cascades/cascade_286377806.npz',\n",
       "       '/users/mseth/Documents/cascades/cascade_286615704.npz',\n",
       "       '/users/mseth/Documents/cascades/cascade_287231890.npz',\n",
       "       '/users/mseth/Documents/cascades/cascade_288070453.npz',\n",
       "       '/users/mseth/Documents/cascades/cascade_288680758.npz',\n",
       "       '/users/mseth/Documents/cascades/cascade_289080641.npz',\n",
       "       '/users/mseth/Documents/cascades/cascade_289083876.npz',\n",
       "       '/users/mseth/Documents/cascades/cascade_289976793.npz',\n",
       "       '/users/mseth/Documents/cascades/cascade_289982525.npz',\n",
       "       '/users/mseth/Documents/cascades/cascade_290119236.npz',\n",
       "       '/users/mseth/Documents/cascades/cascade_290180808.npz',\n",
       "       '/users/mseth/Documents/cascades/cascade_292592838.npz',\n",
       "       '/users/mseth/Documents/cascades/cascade_292640817.npz',\n",
       "       '/users/mseth/Documents/cascades/cascade_292670095.npz',\n",
       "       '/users/mseth/Documents/cascades/cascade_292899602.npz',\n",
       "       '/users/mseth/Documents/cascades/cascade_293532895.npz',\n",
       "       '/users/mseth/Documents/cascades/cascade_293549103.npz',\n",
       "       '/users/mseth/Documents/cascades/cascade_293549525.npz',\n",
       "       '/users/mseth/Documents/cascades/cascade_293565128.npz',\n",
       "       '/users/mseth/Documents/cascades/cascade_293572389.npz'],\n",
       "      dtype='<U53')"
      ]
     },
     "execution_count": 12,
     "metadata": {},
     "output_type": "execute_result"
    }
   ],
   "source": [
    "filepaths"
   ]
  },
  {
   "cell_type": "code",
   "execution_count": null,
   "id": "948af284-74fb-4bb7-b69e-2ecf5aa52ead",
   "metadata": {},
   "outputs": [],
   "source": []
  }
 ],
 "metadata": {
  "kernelspec": {
   "display_name": "Python [conda env:conda-student-rhel8] *",
   "language": "python",
   "name": "conda-env-conda-student-rhel8-py"
  },
  "language_info": {
   "codemirror_mode": {
    "name": "ipython",
    "version": 3
   },
   "file_extension": ".py",
   "mimetype": "text/x-python",
   "name": "python",
   "nbconvert_exporter": "python",
   "pygments_lexer": "ipython3",
   "version": "3.11.9"
  }
 },
 "nbformat": 4,
 "nbformat_minor": 5
}
